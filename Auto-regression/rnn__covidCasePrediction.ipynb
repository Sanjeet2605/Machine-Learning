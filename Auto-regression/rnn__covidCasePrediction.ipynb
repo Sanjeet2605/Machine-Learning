{
  "nbformat": 4,
  "nbformat_minor": 0,
  "metadata": {
    "colab": {
      "provenance": []
    },
    "kernelspec": {
      "name": "python3",
      "display_name": "Python 3"
    }
  },
  "cells": [
    {
      "cell_type": "markdown",
      "metadata": {
        "id": "xpAuMVCwfWs8"
      },
      "source": [
        "# Covid case prediction using Recurrent Neural Network"
      ]
    },
    {
      "cell_type": "markdown",
      "metadata": {
        "id": "nxJfRe4bfYVA"
      },
      "source": [
        "## Part 1 - Data Preprocessing"
      ]
    },
    {
      "cell_type": "markdown",
      "metadata": {
        "id": "ir9zwETrfbrp"
      },
      "source": [
        "### Importing the libraries"
      ]
    },
    {
      "cell_type": "code",
      "metadata": {
        "id": "ZT1f24vHffuf"
      },
      "source": [
        "import numpy as np\n",
        "import matplotlib.pyplot as plt\n",
        "import pandas as pd"
      ],
      "execution_count": 2,
      "outputs": []
    },
    {
      "cell_type": "markdown",
      "metadata": {
        "id": "nQ47JAxrgmaL"
      },
      "source": [
        "### Importing the training set"
      ]
    },
    {
      "cell_type": "code",
      "metadata": {
        "id": "1xiv3pJOgqY3"
      },
      "source": [
        "dataset_train = pd.read_csv('daily_covid_cases.csv')\n",
        "training_set = dataset_train.iloc[:, 1:2].values"
      ],
      "execution_count": 3,
      "outputs": []
    },
    {
      "cell_type": "markdown",
      "metadata": {
        "id": "HT8_2UJegtG5"
      },
      "source": [
        "### Feature Scaling"
      ]
    },
    {
      "cell_type": "code",
      "metadata": {
        "id": "OTrF2kR7gx9x"
      },
      "source": [
        "from sklearn.preprocessing import MinMaxScaler\n",
        "sc = MinMaxScaler(feature_range = (0, 1))\n",
        "training_set_scaled = sc.fit_transform(training_set)"
      ],
      "execution_count": 4,
      "outputs": []
    },
    {
      "cell_type": "markdown",
      "metadata": {
        "id": "JyYgYocqhNUg"
      },
      "source": [
        "### Creating a data structure with 30 timesteps and 1 output"
      ]
    },
    {
      "cell_type": "code",
      "metadata": {
        "id": "iofU21B0i6ST"
      },
      "source": [
        "X_train = []\n",
        "y_train = []\n",
        "for i in range(30, 612):\n",
        "    X_train.append(training_set_scaled[i-30:i, 0])\n",
        "    y_train.append(training_set_scaled[i, 0])\n",
        "X_train, y_train = np.array(X_train), np.array(y_train)"
      ],
      "execution_count": 5,
      "outputs": []
    },
    {
      "cell_type": "markdown",
      "metadata": {
        "id": "D8yaN7Zvi95l"
      },
      "source": [
        "### Reshaping"
      ]
    },
    {
      "cell_type": "code",
      "metadata": {
        "id": "FOXqJHmNjBkz"
      },
      "source": [
        "X_train = np.reshape(X_train, (X_train.shape[0], X_train.shape[1], 1))"
      ],
      "execution_count": 6,
      "outputs": []
    },
    {
      "cell_type": "markdown",
      "metadata": {
        "id": "ZRRSOJeVjEWV"
      },
      "source": [
        "## Part 2 - Building and Training the RNN"
      ]
    },
    {
      "cell_type": "markdown",
      "metadata": {
        "id": "k4XV88JMjHXG"
      },
      "source": [
        "### Importing the Keras libraries and packages"
      ]
    },
    {
      "cell_type": "code",
      "metadata": {
        "id": "9JRnqsxEjKsD"
      },
      "source": [
        "from keras.models import Sequential\n",
        "from keras.layers import Dense\n",
        "from keras.layers import LSTM\n",
        "from keras.layers import Dropout"
      ],
      "execution_count": 7,
      "outputs": []
    },
    {
      "cell_type": "markdown",
      "metadata": {
        "id": "FEIE-1s9jNzC"
      },
      "source": [
        "### Initialising the RNN"
      ]
    },
    {
      "cell_type": "code",
      "metadata": {
        "id": "1338dJ0UjRKH"
      },
      "source": [
        "regressor = Sequential()"
      ],
      "execution_count": 8,
      "outputs": []
    },
    {
      "cell_type": "markdown",
      "metadata": {
        "id": "62eg1OPGjT8z"
      },
      "source": [
        "### Adding the first LSTM layer and some Dropout regularisation"
      ]
    },
    {
      "cell_type": "code",
      "metadata": {
        "id": "2hIinyXUjbVU"
      },
      "source": [
        "regressor.add(LSTM(units = 50, return_sequences = True, input_shape = (X_train.shape[1], 1)))\n",
        "regressor.add(Dropout(0.2))"
      ],
      "execution_count": 9,
      "outputs": []
    },
    {
      "cell_type": "markdown",
      "metadata": {
        "id": "3XBIYLyOjlMx"
      },
      "source": [
        "### Adding a second LSTM layer and some Dropout regularisation"
      ]
    },
    {
      "cell_type": "code",
      "metadata": {
        "id": "UG7nrVaSjuZ2"
      },
      "source": [
        "regressor.add(LSTM(units = 50, return_sequences = True))\n",
        "regressor.add(Dropout(0.2))"
      ],
      "execution_count": 10,
      "outputs": []
    },
    {
      "cell_type": "markdown",
      "metadata": {
        "id": "Ey3fHVnGj1cu"
      },
      "source": [
        "### Adding a third LSTM layer and some Dropout regularisation"
      ]
    },
    {
      "cell_type": "code",
      "metadata": {
        "id": "PuNi6PgFj7jO"
      },
      "source": [
        "regressor.add(LSTM(units = 50, return_sequences = True))\n",
        "regressor.add(Dropout(0.2))"
      ],
      "execution_count": 11,
      "outputs": []
    },
    {
      "cell_type": "markdown",
      "metadata": {
        "id": "SYTrtfTmj933"
      },
      "source": [
        "### Adding a fourth LSTM layer and some Dropout regularisation"
      ]
    },
    {
      "cell_type": "code",
      "metadata": {
        "id": "Jp4Ty8fRkBYV"
      },
      "source": [
        "regressor.add(LSTM(units = 50))\n",
        "regressor.add(Dropout(0.2))"
      ],
      "execution_count": 12,
      "outputs": []
    },
    {
      "cell_type": "markdown",
      "metadata": {
        "id": "9ABI6rOIkHhk"
      },
      "source": [
        "### Adding the output layer"
      ]
    },
    {
      "cell_type": "code",
      "metadata": {
        "id": "aM6R1z4WkME8"
      },
      "source": [
        "regressor.add(Dense(units = 1))"
      ],
      "execution_count": 13,
      "outputs": []
    },
    {
      "cell_type": "markdown",
      "metadata": {
        "id": "zLx4K7uUkPSh"
      },
      "source": [
        "### Compiling the RNN"
      ]
    },
    {
      "cell_type": "code",
      "metadata": {
        "id": "XTrhVN-tkbko"
      },
      "source": [
        "regressor.compile(optimizer = 'adam', loss = 'mean_squared_error')"
      ],
      "execution_count": 14,
      "outputs": []
    },
    {
      "cell_type": "markdown",
      "metadata": {
        "id": "-mPhwKGkkebi"
      },
      "source": [
        "### Fitting the RNN to the Training set"
      ]
    },
    {
      "cell_type": "code",
      "metadata": {
        "id": "I06Nkrz5kkb-",
        "colab": {
          "base_uri": "https://localhost:8080/"
        },
        "outputId": "50b4c5c5-ce1b-462b-dcaf-7355a1301be1"
      },
      "source": [
        "regressor.fit(X_train, y_train, epochs = 40, batch_size = 32)"
      ],
      "execution_count": 15,
      "outputs": [
        {
          "output_type": "stream",
          "name": "stdout",
          "text": [
            "Epoch 1/40\n",
            "19/19 [==============================] - 8s 48ms/step - loss: 0.0246\n",
            "Epoch 2/40\n",
            "19/19 [==============================] - 1s 47ms/step - loss: 0.0136\n",
            "Epoch 3/40\n",
            "19/19 [==============================] - 1s 48ms/step - loss: 0.0079\n",
            "Epoch 4/40\n",
            "19/19 [==============================] - 1s 49ms/step - loss: 0.0031\n",
            "Epoch 5/40\n",
            "19/19 [==============================] - 1s 73ms/step - loss: 0.0040\n",
            "Epoch 6/40\n",
            "19/19 [==============================] - 2s 82ms/step - loss: 0.0026\n",
            "Epoch 7/40\n",
            "19/19 [==============================] - 1s 59ms/step - loss: 0.0022\n",
            "Epoch 8/40\n",
            "19/19 [==============================] - 1s 47ms/step - loss: 0.0023\n",
            "Epoch 9/40\n",
            "19/19 [==============================] - 2s 81ms/step - loss: 0.0021\n",
            "Epoch 10/40\n",
            "19/19 [==============================] - 1s 69ms/step - loss: 0.0019\n",
            "Epoch 11/40\n",
            "19/19 [==============================] - 1s 47ms/step - loss: 0.0017\n",
            "Epoch 12/40\n",
            "19/19 [==============================] - 1s 47ms/step - loss: 0.0014\n",
            "Epoch 13/40\n",
            "19/19 [==============================] - 1s 48ms/step - loss: 0.0019\n",
            "Epoch 14/40\n",
            "19/19 [==============================] - 1s 48ms/step - loss: 0.0018\n",
            "Epoch 15/40\n",
            "19/19 [==============================] - 1s 47ms/step - loss: 0.0015\n",
            "Epoch 16/40\n",
            "19/19 [==============================] - 1s 46ms/step - loss: 0.0014\n",
            "Epoch 17/40\n",
            "19/19 [==============================] - 2s 91ms/step - loss: 0.0014\n",
            "Epoch 18/40\n",
            "19/19 [==============================] - 2s 112ms/step - loss: 0.0013\n",
            "Epoch 19/40\n",
            "19/19 [==============================] - 2s 123ms/step - loss: 0.0014\n",
            "Epoch 20/40\n",
            "19/19 [==============================] - 2s 113ms/step - loss: 0.0015\n",
            "Epoch 21/40\n",
            "19/19 [==============================] - 2s 113ms/step - loss: 0.0014\n",
            "Epoch 22/40\n",
            "19/19 [==============================] - 2s 95ms/step - loss: 0.0016\n",
            "Epoch 23/40\n",
            "19/19 [==============================] - 2s 104ms/step - loss: 0.0018\n",
            "Epoch 24/40\n",
            "19/19 [==============================] - 2s 107ms/step - loss: 0.0010\n",
            "Epoch 25/40\n",
            "19/19 [==============================] - 2s 130ms/step - loss: 0.0016\n",
            "Epoch 26/40\n",
            "19/19 [==============================] - 1s 73ms/step - loss: 0.0048\n",
            "Epoch 27/40\n",
            "19/19 [==============================] - 1s 48ms/step - loss: 0.0017\n",
            "Epoch 28/40\n",
            "19/19 [==============================] - 1s 47ms/step - loss: 0.0016\n",
            "Epoch 29/40\n",
            "19/19 [==============================] - 1s 48ms/step - loss: 0.0015\n",
            "Epoch 30/40\n",
            "19/19 [==============================] - 1s 48ms/step - loss: 9.4866e-04\n",
            "Epoch 31/40\n",
            "19/19 [==============================] - 1s 48ms/step - loss: 9.2233e-04\n",
            "Epoch 32/40\n",
            "19/19 [==============================] - 1s 47ms/step - loss: 0.0013\n",
            "Epoch 33/40\n",
            "19/19 [==============================] - 1s 47ms/step - loss: 0.0012\n",
            "Epoch 34/40\n",
            "19/19 [==============================] - 1s 48ms/step - loss: 0.0015\n",
            "Epoch 35/40\n",
            "19/19 [==============================] - 1s 48ms/step - loss: 0.0011\n",
            "Epoch 36/40\n",
            "19/19 [==============================] - 1s 47ms/step - loss: 0.0010\n",
            "Epoch 37/40\n",
            "19/19 [==============================] - 1s 63ms/step - loss: 0.0010\n",
            "Epoch 38/40\n",
            "19/19 [==============================] - 2s 80ms/step - loss: 8.8929e-04\n",
            "Epoch 39/40\n",
            "19/19 [==============================] - 1s 52ms/step - loss: 9.8858e-04\n",
            "Epoch 40/40\n",
            "19/19 [==============================] - 1s 48ms/step - loss: 0.0011\n"
          ]
        },
        {
          "output_type": "execute_result",
          "data": {
            "text/plain": [
              "<keras.src.callbacks.History at 0x7efccc066c50>"
            ]
          },
          "metadata": {},
          "execution_count": 15
        }
      ]
    },
    {
      "cell_type": "markdown",
      "metadata": {
        "id": "4hRau_lIkrE8"
      },
      "source": [
        "## Part 3 - Making the predictions and visualising the results"
      ]
    },
    {
      "cell_type": "markdown",
      "metadata": {
        "id": "SgJO6qEDksxD"
      },
      "source": [
        "### Getting the real cases"
      ]
    },
    {
      "cell_type": "code",
      "metadata": {
        "id": "FmBT2zqukxTz"
      },
      "source": [
        "dataset_test = pd.read_csv('daily_covid_cases.csv')\n",
        "real_cases = dataset_test.iloc[-100:, 1:2].values"
      ],
      "execution_count": 16,
      "outputs": []
    },
    {
      "cell_type": "markdown",
      "metadata": {
        "id": "GrvrLblxkz42"
      },
      "source": [
        "### Getting the predicted cases"
      ]
    },
    {
      "cell_type": "code",
      "metadata": {
        "id": "emikTvUpk3Ck",
        "colab": {
          "base_uri": "https://localhost:8080/"
        },
        "outputId": "706d2f8e-4073-4b8c-dc4b-7614eac5324b"
      },
      "source": [
        "X_test = []\n",
        "y_test = []\n",
        "for i in range(512, 612):\n",
        "    X_test.append(training_set_scaled[i-30:i, 0])\n",
        "    y_test.append(training_set_scaled[i, 0])\n",
        "X_test = np.array(X_test)\n",
        "X_test = np.array(X_test)\n",
        "X_test = np.reshape(X_test, (X_test.shape[0], X_test.shape[1], 1))\n",
        "predicted_Cases = regressor.predict(X_test)\n",
        "predicted_Cases = sc.inverse_transform(predicted_Cases)"
      ],
      "execution_count": 17,
      "outputs": [
        {
          "output_type": "stream",
          "name": "stdout",
          "text": [
            "4/4 [==============================] - 2s 13ms/step\n"
          ]
        }
      ]
    },
    {
      "cell_type": "markdown",
      "metadata": {
        "id": "iFTNs3YHk6FQ"
      },
      "source": [
        "\n",
        "\n",
        "### Visualising the results"
      ]
    },
    {
      "cell_type": "code",
      "metadata": {
        "id": "8OUI8U49k9tH",
        "colab": {
          "base_uri": "https://localhost:8080/",
          "height": 472
        },
        "outputId": "54991c53-1090-47bb-a302-3764cef61977"
      },
      "source": [
        "plt.plot(real_cases, color = 'red', label = 'Real Cases')\n",
        "plt.plot(predicted_Cases, color = 'blue', label = 'Predicted Cases')\n",
        "plt.title('Covid Case Prediction')\n",
        "plt.xlabel('Time')\n",
        "plt.ylabel('No of Cases')\n",
        "plt.legend()\n",
        "plt.show()"
      ],
      "execution_count": 18,
      "outputs": [
        {
          "output_type": "display_data",
          "data": {
            "text/plain": [
              "<Figure size 640x480 with 1 Axes>"
            ],
            "image/png": "[encoded data removed]"
          },
          "metadata": {}
        }
      ]
    },
    {
      "cell_type": "code",
      "source": [],
      "metadata": {
        "id": "SBUqdGILmtWg"
      },
      "execution_count": null,
      "outputs": []
    }
  ]
}