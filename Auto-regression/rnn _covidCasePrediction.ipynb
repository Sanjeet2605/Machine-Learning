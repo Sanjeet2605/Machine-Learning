{
  "nbformat": 4,
  "nbformat_minor": 0,
  "metadata": {
    "colab": {
      "provenance": [],
      "collapsed_sections": []
    },
    "kernelspec": {
      "name": "python3",
      "display_name": "Python 3"
    }
  },
  "cells": [
    {
      "cell_type": "markdown",
      "metadata": {
        "id": "xpAuMVCwfWs8"
      },
      "source": [
        "# Covid case prediction using Recurrent Neural Network"
      ]
    },
    {
      "cell_type": "markdown",
      "metadata": {
        "id": "nxJfRe4bfYVA"
      },
      "source": [
        "## Part 1 - Data Preprocessing"
      ]
    },
    {
      "cell_type": "markdown",
      "metadata": {
        "id": "ir9zwETrfbrp"
      },
      "source": [
        "### Importing the libraries"
      ]
    },
    {
      "cell_type": "code",
      "metadata": {
        "id": "ZT1f24vHffuf"
      },
      "source": [
        "import numpy as np\n",
        "import matplotlib.pyplot as plt\n",
        "import pandas as pd"
      ],
      "execution_count": 36,
      "outputs": []
    },
    {
      "cell_type": "markdown",
      "metadata": {
        "id": "nQ47JAxrgmaL"
      },
      "source": [
        "### Importing the training set"
      ]
    },
    {
      "cell_type": "code",
      "metadata": {
        "id": "1xiv3pJOgqY3"
      },
      "source": [
        "dataset_train = pd.read_csv('/content/daily_covid_cases.csv')\n",
        "training_set = dataset_train.iloc[:, 1:2].values"
      ],
      "execution_count": 37,
      "outputs": []
    },
    {
      "cell_type": "markdown",
      "metadata": {
        "id": "HT8_2UJegtG5"
      },
      "source": [
        "### Feature Scaling"
      ]
    },
    {
      "cell_type": "code",
      "metadata": {
        "id": "OTrF2kR7gx9x"
      },
      "source": [
        "from sklearn.preprocessing import MinMaxScaler\n",
        "sc = MinMaxScaler(feature_range = (0, 1))\n",
        "training_set_scaled = sc.fit_transform(training_set)"
      ],
      "execution_count": 38,
      "outputs": []
    },
    {
      "cell_type": "markdown",
      "metadata": {
        "id": "JyYgYocqhNUg"
      },
      "source": [
        "### Creating a data structure with 30 timesteps and 1 output"
      ]
    },
    {
      "cell_type": "code",
      "metadata": {
        "id": "iofU21B0i6ST"
      },
      "source": [
        "X_train = []\n",
        "y_train = []\n",
        "for i in range(30, 612):\n",
        "    X_train.append(training_set_scaled[i-30:i, 0])\n",
        "    y_train.append(training_set_scaled[i, 0])\n",
        "X_train, y_train = np.array(X_train), np.array(y_train)"
      ],
      "execution_count": 39,
      "outputs": []
    },
    {
      "cell_type": "markdown",
      "metadata": {
        "id": "D8yaN7Zvi95l"
      },
      "source": [
        "### Reshaping"
      ]
    },
    {
      "cell_type": "code",
      "metadata": {
        "id": "FOXqJHmNjBkz"
      },
      "source": [
        "X_train = np.reshape(X_train, (X_train.shape[0], X_train.shape[1], 1))"
      ],
      "execution_count": 40,
      "outputs": []
    },
    {
      "cell_type": "markdown",
      "metadata": {
        "id": "ZRRSOJeVjEWV"
      },
      "source": [
        "## Part 2 - Building and Training the RNN"
      ]
    },
    {
      "cell_type": "markdown",
      "metadata": {
        "id": "k4XV88JMjHXG"
      },
      "source": [
        "### Importing the Keras libraries and packages"
      ]
    },
    {
      "cell_type": "code",
      "metadata": {
        "id": "9JRnqsxEjKsD"
      },
      "source": [
        "from keras.models import Sequential\n",
        "from keras.layers import Dense\n",
        "from keras.layers import LSTM\n",
        "from keras.layers import Dropout"
      ],
      "execution_count": 41,
      "outputs": []
    },
    {
      "cell_type": "markdown",
      "metadata": {
        "id": "FEIE-1s9jNzC"
      },
      "source": [
        "### Initialising the RNN"
      ]
    },
    {
      "cell_type": "code",
      "metadata": {
        "id": "1338dJ0UjRKH"
      },
      "source": [
        "regressor = Sequential()"
      ],
      "execution_count": 42,
      "outputs": []
    },
    {
      "cell_type": "markdown",
      "metadata": {
        "id": "62eg1OPGjT8z"
      },
      "source": [
        "### Adding the first LSTM layer and some Dropout regularisation"
      ]
    },
    {
      "cell_type": "code",
      "metadata": {
        "id": "2hIinyXUjbVU"
      },
      "source": [
        "regressor.add(LSTM(units = 50, return_sequences = True, input_shape = (X_train.shape[1], 1)))\n",
        "regressor.add(Dropout(0.2))"
      ],
      "execution_count": 43,
      "outputs": []
    },
    {
      "cell_type": "markdown",
      "metadata": {
        "id": "3XBIYLyOjlMx"
      },
      "source": [
        "### Adding a second LSTM layer and some Dropout regularisation"
      ]
    },
    {
      "cell_type": "code",
      "metadata": {
        "id": "UG7nrVaSjuZ2"
      },
      "source": [
        "regressor.add(LSTM(units = 50, return_sequences = True))\n",
        "regressor.add(Dropout(0.2))"
      ],
      "execution_count": 44,
      "outputs": []
    },
    {
      "cell_type": "markdown",
      "metadata": {
        "id": "Ey3fHVnGj1cu"
      },
      "source": [
        "### Adding a third LSTM layer and some Dropout regularisation"
      ]
    },
    {
      "cell_type": "code",
      "metadata": {
        "id": "PuNi6PgFj7jO"
      },
      "source": [
        "regressor.add(LSTM(units = 50, return_sequences = True))\n",
        "regressor.add(Dropout(0.2))"
      ],
      "execution_count": 45,
      "outputs": []
    },
    {
      "cell_type": "markdown",
      "metadata": {
        "id": "SYTrtfTmj933"
      },
      "source": [
        "### Adding a fourth LSTM layer and some Dropout regularisation"
      ]
    },
    {
      "cell_type": "code",
      "metadata": {
        "id": "Jp4Ty8fRkBYV"
      },
      "source": [
        "regressor.add(LSTM(units = 50))\n",
        "regressor.add(Dropout(0.2))"
      ],
      "execution_count": 46,
      "outputs": []
    },
    {
      "cell_type": "markdown",
      "metadata": {
        "id": "9ABI6rOIkHhk"
      },
      "source": [
        "### Adding the output layer"
      ]
    },
    {
      "cell_type": "code",
      "metadata": {
        "id": "aM6R1z4WkME8"
      },
      "source": [
        "regressor.add(Dense(units = 1))"
      ],
      "execution_count": 47,
      "outputs": []
    },
    {
      "cell_type": "markdown",
      "metadata": {
        "id": "zLx4K7uUkPSh"
      },
      "source": [
        "### Compiling the RNN"
      ]
    },
    {
      "cell_type": "code",
      "metadata": {
        "id": "XTrhVN-tkbko"
      },
      "source": [
        "regressor.compile(optimizer = 'adam', loss = 'mean_squared_error')"
      ],
      "execution_count": 48,
      "outputs": []
    },
    {
      "cell_type": "markdown",
      "metadata": {
        "id": "-mPhwKGkkebi"
      },
      "source": [
        "### Fitting the RNN to the Training set"
      ]
    },
    {
      "cell_type": "code",
      "metadata": {
        "id": "I06Nkrz5kkb-",
        "colab": {
          "base_uri": "https://localhost:8080/"
        },
        "outputId": "9394992a-a9dc-4c9b-b9f4-3a2e700e732f"
      },
      "source": [
        "regressor.fit(X_train, y_train, epochs = 40, batch_size = 32)"
      ],
      "execution_count": 50,
      "outputs": [
        {
          "output_type": "stream",
          "name": "stdout",
          "text": [
            "Epoch 1/40\n",
            "19/19 [==============================] - 1s 50ms/step - loss: 6.0438e-04\n",
            "Epoch 2/40\n",
            "19/19 [==============================] - 1s 40ms/step - loss: 5.8657e-04\n",
            "Epoch 3/40\n",
            "19/19 [==============================] - 1s 42ms/step - loss: 8.6020e-04\n",
            "Epoch 4/40\n",
            "19/19 [==============================] - 1s 42ms/step - loss: 8.4720e-04\n",
            "Epoch 5/40\n",
            "19/19 [==============================] - 1s 67ms/step - loss: 6.0690e-04\n",
            "Epoch 6/40\n",
            "19/19 [==============================] - 1s 60ms/step - loss: 9.0364e-04\n",
            "Epoch 7/40\n",
            "19/19 [==============================] - 1s 60ms/step - loss: 8.5886e-04\n",
            "Epoch 8/40\n",
            "19/19 [==============================] - 1s 71ms/step - loss: 8.0071e-04\n",
            "Epoch 9/40\n",
            "19/19 [==============================] - 1s 48ms/step - loss: 7.0314e-04\n",
            "Epoch 10/40\n",
            "19/19 [==============================] - 1s 46ms/step - loss: 4.9574e-04\n",
            "Epoch 11/40\n",
            "19/19 [==============================] - 1s 43ms/step - loss: 8.4358e-04\n",
            "Epoch 12/40\n",
            "19/19 [==============================] - 1s 41ms/step - loss: 7.7364e-04\n",
            "Epoch 13/40\n",
            "19/19 [==============================] - 1s 61ms/step - loss: 8.5645e-04\n",
            "Epoch 14/40\n",
            "19/19 [==============================] - 1s 42ms/step - loss: 9.3545e-04\n",
            "Epoch 15/40\n",
            "19/19 [==============================] - 1s 42ms/step - loss: 6.6378e-04\n",
            "Epoch 16/40\n",
            "19/19 [==============================] - 1s 48ms/step - loss: 7.4198e-04\n",
            "Epoch 17/40\n",
            "19/19 [==============================] - 1s 51ms/step - loss: 8.6490e-04\n",
            "Epoch 18/40\n",
            "19/19 [==============================] - 1s 42ms/step - loss: 8.8817e-04\n",
            "Epoch 19/40\n",
            "19/19 [==============================] - 1s 40ms/step - loss: 7.5198e-04\n",
            "Epoch 20/40\n",
            "19/19 [==============================] - 1s 40ms/step - loss: 7.4283e-04\n",
            "Epoch 21/40\n",
            "19/19 [==============================] - 1s 61ms/step - loss: 5.4814e-04\n",
            "Epoch 22/40\n",
            "19/19 [==============================] - 1s 54ms/step - loss: 5.8966e-04\n",
            "Epoch 23/40\n",
            "19/19 [==============================] - 1s 42ms/step - loss: 9.2502e-04\n",
            "Epoch 24/40\n",
            "19/19 [==============================] - 1s 52ms/step - loss: 5.9131e-04\n",
            "Epoch 25/40\n",
            "19/19 [==============================] - 1s 65ms/step - loss: 4.1039e-04\n",
            "Epoch 26/40\n",
            "19/19 [==============================] - 1s 42ms/step - loss: 4.7805e-04\n",
            "Epoch 27/40\n",
            "19/19 [==============================] - 1s 42ms/step - loss: 5.2865e-04\n",
            "Epoch 28/40\n",
            "19/19 [==============================] - 1s 46ms/step - loss: 6.3055e-04\n",
            "Epoch 29/40\n",
            "19/19 [==============================] - 1s 50ms/step - loss: 5.5154e-04\n",
            "Epoch 30/40\n",
            "19/19 [==============================] - 1s 48ms/step - loss: 4.6852e-04\n",
            "Epoch 31/40\n",
            "19/19 [==============================] - 1s 64ms/step - loss: 5.3006e-04\n",
            "Epoch 32/40\n",
            "19/19 [==============================] - 1s 50ms/step - loss: 7.0586e-04\n",
            "Epoch 33/40\n",
            "19/19 [==============================] - 1s 47ms/step - loss: 6.2858e-04\n",
            "Epoch 34/40\n",
            "19/19 [==============================] - 1s 49ms/step - loss: 4.1375e-04\n",
            "Epoch 35/40\n",
            "19/19 [==============================] - 1s 40ms/step - loss: 5.6682e-04\n",
            "Epoch 36/40\n",
            "19/19 [==============================] - 1s 60ms/step - loss: 4.1777e-04\n",
            "Epoch 37/40\n",
            "19/19 [==============================] - 1s 52ms/step - loss: 3.1550e-04\n",
            "Epoch 38/40\n",
            "19/19 [==============================] - 1s 66ms/step - loss: 5.0143e-04\n",
            "Epoch 39/40\n",
            "19/19 [==============================] - 2s 82ms/step - loss: 5.9710e-04\n",
            "Epoch 40/40\n",
            "19/19 [==============================] - 2s 94ms/step - loss: 7.4324e-04\n"
          ]
        },
        {
          "output_type": "execute_result",
          "data": {
            "text/plain": [
              "<keras.callbacks.History at 0x7f6905a4e5d0>"
            ]
          },
          "metadata": {},
          "execution_count": 50
        }
      ]
    },
    {
      "cell_type": "markdown",
      "metadata": {
        "id": "4hRau_lIkrE8"
      },
      "source": [
        "## Part 3 - Making the predictions and visualising the results"
      ]
    },
    {
      "cell_type": "markdown",
      "metadata": {
        "id": "SgJO6qEDksxD"
      },
      "source": [
        "### Getting the real cases"
      ]
    },
    {
      "cell_type": "code",
      "metadata": {
        "id": "FmBT2zqukxTz"
      },
      "source": [
        "dataset_test = pd.read_csv('/content/daily_covid_cases.csv')\n",
        "real_cases = dataset_test.iloc[-100:, 1:2].values"
      ],
      "execution_count": 51,
      "outputs": []
    },
    {
      "cell_type": "markdown",
      "metadata": {
        "id": "GrvrLblxkz42"
      },
      "source": [
        "### Getting the predicted cases"
      ]
    },
    {
      "cell_type": "code",
      "metadata": {
        "id": "emikTvUpk3Ck",
        "colab": {
          "base_uri": "https://localhost:8080/"
        },
        "outputId": "decb52f7-d26f-49a2-b033-91c5184a5212"
      },
      "source": [
        "X_test = []\n",
        "y_test = []\n",
        "for i in range(512, 612):\n",
        "    X_test.append(training_set_scaled[i-30:i, 0])\n",
        "    y_test.append(training_set_scaled[i, 0])\n",
        "X_test = np.array(X_test)\n",
        "X_test = np.array(X_test)\n",
        "X_test = np.reshape(X_test, (X_test.shape[0], X_test.shape[1], 1))\n",
        "predicted_Cases = regressor.predict(X_test)\n",
        "predicted_Cases = sc.inverse_transform(predicted_Cases)"
      ],
      "execution_count": 52,
      "outputs": [
        {
          "output_type": "stream",
          "name": "stdout",
          "text": [
            "4/4 [==============================] - 2s 9ms/step\n"
          ]
        }
      ]
    },
    {
      "cell_type": "markdown",
      "metadata": {
        "id": "iFTNs3YHk6FQ"
      },
      "source": [
        "\n",
        "\n",
        "### Visualising the results"
      ]
    },
    {
      "cell_type": "code",
      "metadata": {
        "id": "8OUI8U49k9tH",
        "colab": {
          "base_uri": "https://localhost:8080/",
          "height": 295
        },
        "outputId": "08da1f73-04e2-4dea-d039-f5d2d2ff1131"
      },
      "source": [
        "plt.plot(real_cases, color = 'red', label = 'Real Cases')\n",
        "plt.plot(predicted_Cases, color = 'blue', label = 'Predicted Cases')\n",
        "plt.title('Covid Case Prediction')\n",
        "plt.xlabel('Time')\n",
        "plt.ylabel('No of Cases')\n",
        "plt.legend()\n",
        "plt.show()"
      ],
      "execution_count": 53,
      "outputs": [
        {
          "output_type": "display_data",
          "data": {
            "text/plain": [
              "<Figure size 432x288 with 1 Axes>"
            ],
            "image/png": "[encoded data removed]"
          },
          "metadata": {
            "needs_background": "light"
          }
        }
      ]
    },
    {
      "cell_type": "code",
      "source": [],
      "metadata": {
        "id": "SBUqdGILmtWg"
      },
      "execution_count": null,
      "outputs": []
    }
  ]
}