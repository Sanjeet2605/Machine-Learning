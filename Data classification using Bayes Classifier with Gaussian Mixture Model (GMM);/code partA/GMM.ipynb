{
 "cells": [
  {
   "cell_type": "code",
   "execution_count": 1,
   "metadata": {
    "scrolled": true
   },
   "outputs": [
    {
     "name": "stdout",
     "output_type": "stream",
     "text": [
      "The confusion matrix for K= 2 is\n",
      " [[104  14]\n",
      " [  3 216]]\n",
      "The classification accuracy for Q= 2 is 94.955\n",
      "The confusion matrix for K= 4 is\n",
      " [[106  12]\n",
      " [  3 216]]\n",
      "The classification accuracy for Q= 4 is 95.549\n",
      "The confusion matrix for K= 8 is\n",
      " [[105  13]\n",
      " [  4 215]]\n",
      "The classification accuracy for Q= 8 is 94.955\n",
      "The confusion matrix for K= 16 is\n",
      " [[ 89  29]\n",
      " [  2 217]]\n",
      "The classification accuracy for Q= 16 is 90.801\n"
     ]
    }
   ],
   "source": [
    "# impoting important library\n",
    "import pandas as pd\n",
    "from sklearn.mixture import GaussianMixture\n",
    "import numpy as np\n",
    "from sklearn.metrics import accuracy_score, confusion_matrix\n",
    "\n",
    "# reading the csv files of training and testing dataset\n",
    "train = pd.read_csv(\"SteelPlateFaults-train.csv\")\n",
    "test = pd.read_csv(\"SteelPlateFaults-test.csv\")\n",
    "y_true = test['Class'].values\n",
    "\n",
    "# dropping the attributes\n",
    "train = train.drop(['TypeOfSteel_A300', 'TypeOfSteel_A400',\n",
    "                   'Y_Minimum', 'X_Minimum'], axis=1)\n",
    "test = test.drop(['TypeOfSteel_A300', 'TypeOfSteel_A400',\n",
    "                 'Y_Minimum', 'X_Minimum'], axis=1)\n",
    "\n",
    "# separating the training data based on class\n",
    "train0 = train.groupby('Class').get_group(0).to_numpy()\n",
    "train0 = np.delete(train0, 23, axis=1)\n",
    "train1 = train.groupby('Class').get_group(1).to_numpy()\n",
    "train1 = np.delete(train1, 23, axis=1)\n",
    "\n",
    "\n",
    "# dropping the class attribute\n",
    "train = train.drop(['Class'], axis=1)\n",
    "test = test.drop(['Class'], axis=1)\n",
    "\n",
    "\n",
    "# number of n_components\n",
    "n_component = [2, 4, 8, 16]\n",
    "for q in n_component:\n",
    "    y_pred = []\n",
    "    # building gmm\n",
    "    gm0 = GaussianMixture(\n",
    "        n_components=q, covariance_type='full', reg_covar=1e-5).fit(train0)\n",
    "    gm1 = GaussianMixture(\n",
    "        n_components=q, covariance_type='full', reg_covar=1e-5).fit(train1)\n",
    "    # computing the weighted log probabilities\n",
    "    log0 = gm0.score_samples(test) + np.log(len(train0)/len(train))\n",
    "    log1 = gm1.score_samples(test) + np.log(len(train1)/len(train))\n",
    "    for i in range(len(log0)):\n",
    "        if log0[i] > log1[i]:\n",
    "            y_pred.append(0)\n",
    "\n",
    "        else:\n",
    "            y_pred.append(1)\n",
    "    print(\"The confusion matrix for K=\", q,\n",
    "          \"is\\n\", confusion_matrix(y_true, y_pred))\n",
    "    print(\"The classification accuracy for Q=\", q, \"is\",\n",
    "          round(100 * accuracy_score(y_true, y_pred), 3))\n",
    "\n",
    "# question 2 of part A is in report\n"
   ]
  }
 ],
 "metadata": {
  "kernelspec": {
   "display_name": "Python 3",
   "language": "python",
   "name": "python3"
  },
  "language_info": {
   "codemirror_mode": {
    "name": "ipython",
    "version": 3
   },
   "file_extension": ".py",
   "mimetype": "text/x-python",
   "name": "python",
   "nbconvert_exporter": "python",
   "pygments_lexer": "ipython3",
   "version": "3.8.5"
  }
 },
 "nbformat": 4,
 "nbformat_minor": 4
}
